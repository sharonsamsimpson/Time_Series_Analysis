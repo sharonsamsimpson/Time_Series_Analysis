{
 "cells": [
  {
   "cell_type": "markdown",
   "id": "0bd39dce",
   "metadata": {},
   "source": [
    "# Time Series Analysis & Forecasting- Project"
   ]
  },
  {
   "cell_type": "markdown",
   "id": "3fb97c4d",
   "metadata": {},
   "source": [
    "__Problem Statement:__\n",
    "    \n",
    "`Fit a seasonal ARIMA model of your choice to the U.S. Live Birth Series (birth).`\n",
    "\n",
    "`Use the estimated model to forecast the next 12 months.`"
   ]
  },
  {
   "cell_type": "markdown",
   "id": "c6a6f1a2",
   "metadata": {},
   "source": [
    "Done by,\n",
    "   - RAHINI (215229128)\n",
    "   - KAUSALYA (215229118)\n",
    "   - SHARON SAM (215229137)\n",
    "   - DAYA ANANDHI (215229109)\n",
    "   - ADELINE (215229146)"
   ]
  },
  {
   "cell_type": "markdown",
   "id": "5c39ed93",
   "metadata": {},
   "source": [
    "### Import necessary libraries"
   ]
  },
  {
   "cell_type": "code",
   "execution_count": 1,
   "id": "47e78ae8",
   "metadata": {},
   "outputs": [],
   "source": [
    "import warnings\n",
    "warnings.filterwarnings(\"ignore\")\n",
    "\n",
    "import requests\n",
    "from bs4 import BeautifulSoup\n",
    "\n",
    "import pandas as pd\n",
    "import numpy as np\n",
    "\n",
    "import matplotlib.pyplot as plt\n",
    "import seaborn as sns\n",
    "\n",
    "from pylab import rcParams\n",
    "\n",
    "from statsmodels.tsa.stattools import adfuller\n",
    "\n",
    "from statsmodels.tsa.arima_model import ARIMA"
   ]
  },
  {
   "cell_type": "markdown",
   "id": "ad983474",
   "metadata": {},
   "source": [
    "### Reading the dataset from Webpage and Importing into dataframe"
   ]
  },
  {
   "cell_type": "code",
   "execution_count": 2,
   "id": "1d94ec33",
   "metadata": {},
   "outputs": [],
   "source": [
    "page = requests.get('https://www.infoplease.com/us/population/live-births-and-birth-rates-year')\n",
    "\n",
    "bs4 = BeautifulSoup(page.content,'html.parser')\n",
    "\n",
    "table = bs4.find(\"table\", id=\"A0005068\")\n",
    "\n",
    "headers = []\n",
    "for i in table.find_all(\"th\"):\n",
    "    title = i.text\n",
    "    headers.append(title)\n",
    "\n",
    "df = pd.DataFrame(columns = headers)\n",
    "\n",
    "for j in table.find_all(\"tr\")[1:]:\n",
    "    row_data = j.find_all(\"td\")\n",
    "    row = [i.text for i in row_data]\n",
    "    length = len(df)\n",
    "    df.loc[length] = row"
   ]
  },
  {
   "cell_type": "markdown",
   "id": "1aa5bbc9",
   "metadata": {},
   "source": [
    "### Properties of dataset"
   ]
  },
  {
   "cell_type": "code",
   "execution_count": 3,
   "id": "9bbe969a",
   "metadata": {},
   "outputs": [
    {
     "data": {
      "text/html": [
       "<div>\n",
       "<style scoped>\n",
       "    .dataframe tbody tr th:only-of-type {\n",
       "        vertical-align: middle;\n",
       "    }\n",
       "\n",
       "    .dataframe tbody tr th {\n",
       "        vertical-align: top;\n",
       "    }\n",
       "\n",
       "    .dataframe thead th {\n",
       "        text-align: right;\n",
       "    }\n",
       "</style>\n",
       "<table border=\"1\" class=\"dataframe\">\n",
       "  <thead>\n",
       "    <tr style=\"text-align: right;\">\n",
       "      <th></th>\n",
       "      <th>Year</th>\n",
       "      <th>Births1</th>\n",
       "      <th>Rate2</th>\n",
       "    </tr>\n",
       "  </thead>\n",
       "  <tbody>\n",
       "    <tr>\n",
       "      <th>0</th>\n",
       "      <td>1910</td>\n",
       "      <td>2,777,000</td>\n",
       "      <td>30.1</td>\n",
       "    </tr>\n",
       "    <tr>\n",
       "      <th>1</th>\n",
       "      <td>1915</td>\n",
       "      <td>2,965,000</td>\n",
       "      <td>29.5</td>\n",
       "    </tr>\n",
       "    <tr>\n",
       "      <th>2</th>\n",
       "      <td>1920</td>\n",
       "      <td>2,950,000</td>\n",
       "      <td>27.7</td>\n",
       "    </tr>\n",
       "    <tr>\n",
       "      <th>3</th>\n",
       "      <td>1925</td>\n",
       "      <td>2,909,000</td>\n",
       "      <td>25.1</td>\n",
       "    </tr>\n",
       "    <tr>\n",
       "      <th>4</th>\n",
       "      <td>1930</td>\n",
       "      <td>2,618,000</td>\n",
       "      <td>21.3</td>\n",
       "    </tr>\n",
       "  </tbody>\n",
       "</table>\n",
       "</div>"
      ],
      "text/plain": [
       "   Year    Births1 Rate2\n",
       "0  1910  2,777,000  30.1\n",
       "1  1915  2,965,000  29.5\n",
       "2  1920  2,950,000  27.7\n",
       "3  1925  2,909,000  25.1\n",
       "4  1930  2,618,000  21.3"
      ]
     },
     "execution_count": 3,
     "metadata": {},
     "output_type": "execute_result"
    }
   ],
   "source": [
    "df.head()"
   ]
  },
  {
   "cell_type": "code",
   "execution_count": 4,
   "id": "46d80265",
   "metadata": {},
   "outputs": [
    {
     "data": {
      "text/html": [
       "<div>\n",
       "<style scoped>\n",
       "    .dataframe tbody tr th:only-of-type {\n",
       "        vertical-align: middle;\n",
       "    }\n",
       "\n",
       "    .dataframe tbody tr th {\n",
       "        vertical-align: top;\n",
       "    }\n",
       "\n",
       "    .dataframe thead th {\n",
       "        text-align: right;\n",
       "    }\n",
       "</style>\n",
       "<table border=\"1\" class=\"dataframe\">\n",
       "  <thead>\n",
       "    <tr style=\"text-align: right;\">\n",
       "      <th></th>\n",
       "      <th>Year</th>\n",
       "      <th>Births1</th>\n",
       "      <th>Rate2</th>\n",
       "    </tr>\n",
       "  </thead>\n",
       "  <tbody>\n",
       "    <tr>\n",
       "      <th>58</th>\n",
       "      <td>2002</td>\n",
       "      <td>4,021,726</td>\n",
       "      <td>13.9</td>\n",
       "    </tr>\n",
       "    <tr>\n",
       "      <th>59</th>\n",
       "      <td>2003</td>\n",
       "      <td>4,089,950</td>\n",
       "      <td>14.1</td>\n",
       "    </tr>\n",
       "    <tr>\n",
       "      <th>60</th>\n",
       "      <td>2004</td>\n",
       "      <td>4,112,052</td>\n",
       "      <td>14.0</td>\n",
       "    </tr>\n",
       "    <tr>\n",
       "      <th>61</th>\n",
       "      <td>2005</td>\n",
       "      <td>4,138,349</td>\n",
       "      <td>14.0</td>\n",
       "    </tr>\n",
       "    <tr>\n",
       "      <th>62</th>\n",
       "      <td>2009</td>\n",
       "      <td>4,131,019</td>\n",
       "      <td>13.8</td>\n",
       "    </tr>\n",
       "  </tbody>\n",
       "</table>\n",
       "</div>"
      ],
      "text/plain": [
       "    Year    Births1 Rate2\n",
       "58  2002  4,021,726  13.9\n",
       "59  2003  4,089,950  14.1\n",
       "60  2004  4,112,052  14.0\n",
       "61  2005  4,138,349  14.0\n",
       "62  2009  4,131,019  13.8"
      ]
     },
     "execution_count": 4,
     "metadata": {},
     "output_type": "execute_result"
    }
   ],
   "source": [
    "df.tail()"
   ]
  },
  {
   "cell_type": "code",
   "execution_count": 5,
   "id": "6bedb631",
   "metadata": {},
   "outputs": [
    {
     "data": {
      "text/plain": [
       "(63, 3)"
      ]
     },
     "execution_count": 5,
     "metadata": {},
     "output_type": "execute_result"
    }
   ],
   "source": [
    "df.shape"
   ]
  },
  {
   "cell_type": "code",
   "execution_count": 6,
   "id": "b4524446",
   "metadata": {},
   "outputs": [
    {
     "data": {
      "text/plain": [
       "189"
      ]
     },
     "execution_count": 6,
     "metadata": {},
     "output_type": "execute_result"
    }
   ],
   "source": [
    "df.size"
   ]
  },
  {
   "cell_type": "code",
   "execution_count": 7,
   "id": "461b05e8",
   "metadata": {},
   "outputs": [
    {
     "name": "stdout",
     "output_type": "stream",
     "text": [
      "<class 'pandas.core.frame.DataFrame'>\n",
      "Int64Index: 63 entries, 0 to 62\n",
      "Data columns (total 3 columns):\n",
      " #   Column   Non-Null Count  Dtype \n",
      "---  ------   --------------  ----- \n",
      " 0   Year     63 non-null     object\n",
      " 1   Births1  63 non-null     object\n",
      " 2   Rate2    63 non-null     object\n",
      "dtypes: object(3)\n",
      "memory usage: 2.0+ KB\n"
     ]
    }
   ],
   "source": [
    "df.info()"
   ]
  },
  {
   "cell_type": "markdown",
   "id": "72c5d140",
   "metadata": {},
   "source": [
    "### Pre-processing"
   ]
  },
  {
   "cell_type": "markdown",
   "id": "5edbfe66",
   "metadata": {},
   "source": [
    "#### Dropping unwanted columns"
   ]
  },
  {
   "cell_type": "code",
   "execution_count": 8,
   "id": "20cbd268",
   "metadata": {},
   "outputs": [],
   "source": [
    "df.drop('Births1', inplace=True, axis=1)"
   ]
  },
  {
   "cell_type": "markdown",
   "id": "a1cc712f",
   "metadata": {},
   "source": [
    "#### Changing the values as required"
   ]
  },
  {
   "cell_type": "code",
   "execution_count": 9,
   "id": "aeac1eaf",
   "metadata": {},
   "outputs": [],
   "source": [
    "df.iloc[9,0] = '1952'\n",
    "df.iloc[10,0] = '1953'\n",
    "df.iloc[11,0] = '1954'\n",
    "df.iloc[13,0] = '1956'\n",
    "df.iloc[14,0] = '1957'\n",
    "df.iloc[15,0] = '1958'\n",
    "df.iloc[16,0] = '1959'\n",
    "df.iloc[17,0] = '1960'\n",
    "df.iloc[18,0] = '1961'\n",
    "df.iloc[19,0] = '1962'\n",
    "df.iloc[20,0] = '1963'\n",
    "df.iloc[21,0] = '1964'\n",
    "df.iloc[22,0] = '1965'\n",
    "df.iloc[23,0] = '1966'\n",
    "df.iloc[24,0] = '1967'\n",
    "df.iloc[25,0] = '1968'\n",
    "df.iloc[26,0] = '1969'\n",
    "df.iloc[27,0] = '1970'\n",
    "df.iloc[28,0] = '1971'"
   ]
  },
  {
   "cell_type": "markdown",
   "id": "29799f86",
   "metadata": {},
   "source": [
    "#### Converting datatype of the elements in dataset"
   ]
  },
  {
   "cell_type": "code",
   "execution_count": 10,
   "id": "7f56a4ee",
   "metadata": {},
   "outputs": [],
   "source": [
    "df['Year'] = df['Year'].astype('int')\n",
    "df['Rate2'] = df['Rate2'].astype('float')"
   ]
  },
  {
   "cell_type": "code",
   "execution_count": 11,
   "id": "5417d9ec",
   "metadata": {},
   "outputs": [
    {
     "name": "stdout",
     "output_type": "stream",
     "text": [
      "<class 'pandas.core.frame.DataFrame'>\n",
      "Int64Index: 63 entries, 0 to 62\n",
      "Data columns (total 2 columns):\n",
      " #   Column  Non-Null Count  Dtype  \n",
      "---  ------  --------------  -----  \n",
      " 0   Year    63 non-null     int32  \n",
      " 1   Rate2   63 non-null     float64\n",
      "dtypes: float64(1), int32(1)\n",
      "memory usage: 1.2 KB\n"
     ]
    }
   ],
   "source": [
    "df.info()"
   ]
  },
  {
   "cell_type": "markdown",
   "id": "e20858e0",
   "metadata": {},
   "source": [
    "### Setting Year as Index labels"
   ]
  },
  {
   "cell_type": "code",
   "execution_count": 12,
   "id": "667b7505",
   "metadata": {},
   "outputs": [],
   "source": [
    "df.set_index('Year',inplace=True)"
   ]
  },
  {
   "cell_type": "markdown",
   "id": "a0c1be77",
   "metadata": {},
   "source": [
    "### Renaming the column"
   ]
  },
  {
   "cell_type": "code",
   "execution_count": 13,
   "id": "e060a11b",
   "metadata": {},
   "outputs": [],
   "source": [
    "df.rename(columns = {'Rate2':'Birth_Rate'}, inplace = True)"
   ]
  },
  {
   "cell_type": "code",
   "execution_count": 14,
   "id": "08bef596",
   "metadata": {},
   "outputs": [
    {
     "data": {
      "text/html": [
       "<div>\n",
       "<style scoped>\n",
       "    .dataframe tbody tr th:only-of-type {\n",
       "        vertical-align: middle;\n",
       "    }\n",
       "\n",
       "    .dataframe tbody tr th {\n",
       "        vertical-align: top;\n",
       "    }\n",
       "\n",
       "    .dataframe thead th {\n",
       "        text-align: right;\n",
       "    }\n",
       "</style>\n",
       "<table border=\"1\" class=\"dataframe\">\n",
       "  <thead>\n",
       "    <tr style=\"text-align: right;\">\n",
       "      <th></th>\n",
       "      <th>Birth_Rate</th>\n",
       "    </tr>\n",
       "    <tr>\n",
       "      <th>Year</th>\n",
       "      <th></th>\n",
       "    </tr>\n",
       "  </thead>\n",
       "  <tbody>\n",
       "    <tr>\n",
       "      <th>1910</th>\n",
       "      <td>30.1</td>\n",
       "    </tr>\n",
       "    <tr>\n",
       "      <th>1915</th>\n",
       "      <td>29.5</td>\n",
       "    </tr>\n",
       "    <tr>\n",
       "      <th>1920</th>\n",
       "      <td>27.7</td>\n",
       "    </tr>\n",
       "    <tr>\n",
       "      <th>1925</th>\n",
       "      <td>25.1</td>\n",
       "    </tr>\n",
       "    <tr>\n",
       "      <th>1930</th>\n",
       "      <td>21.3</td>\n",
       "    </tr>\n",
       "  </tbody>\n",
       "</table>\n",
       "</div>"
      ],
      "text/plain": [
       "      Birth_Rate\n",
       "Year            \n",
       "1910        30.1\n",
       "1915        29.5\n",
       "1920        27.7\n",
       "1925        25.1\n",
       "1930        21.3"
      ]
     },
     "execution_count": 14,
     "metadata": {},
     "output_type": "execute_result"
    }
   ],
   "source": [
    "df.head()"
   ]
  },
  {
   "cell_type": "markdown",
   "id": "62b58232",
   "metadata": {},
   "source": [
    "### Plotting the Time Series"
   ]
  },
  {
   "cell_type": "code",
   "execution_count": 15,
   "id": "725a4a1e",
   "metadata": {},
   "outputs": [
    {
     "data": {
      "image/png": "[encoded data removed]",
      "text/plain": [
       "<Figure size 1080x360 with 1 Axes>"
      ]
     },
     "metadata": {
      "needs_background": "light"
     },
     "output_type": "display_data"
    }
   ],
   "source": [
    "rcParams['figure.figsize'] = 15,5\n",
    "df.plot()\n",
    "plt.xlabel('Year')\n",
    "plt.ylabel('Birth Rate')\n",
    "plt.show()"
   ]
  },
  {
   "cell_type": "code",
   "execution_count": 16,
   "id": "9c22fdd2",
   "metadata": {},
   "outputs": [
    {
     "data": {
      "image/png": "[encoded data removed]",
      "text/plain": [
       "<Figure size 1080x360 with 1 Axes>"
      ]
     },
     "metadata": {
      "needs_background": "light"
     },
     "output_type": "display_data"
    }
   ],
   "source": [
    "df.Birth_Rate.rolling(window=30).mean().plot()\n",
    "plt.show()"
   ]
  },
  {
   "cell_type": "markdown",
   "id": "d1e9b177",
   "metadata": {},
   "source": [
    "### Checking for Stationarity"
   ]
  },
  {
   "cell_type": "code",
   "execution_count": 17,
   "id": "6f41518f",
   "metadata": {},
   "outputs": [],
   "source": [
    "test_result = adfuller(df['Birth_Rate'])"
   ]
  },
  {
   "cell_type": "code",
   "execution_count": 18,
   "id": "00ed2590",
   "metadata": {},
   "outputs": [
    {
     "name": "stdout",
     "output_type": "stream",
     "text": [
      "Weak evidence against null hypothesis(Ho), indicating it is non-stationary \n",
      "ADF Test Statistic : -2.635845300334956\n",
      "p-value : 0.08581273678851786\n",
      "#Lags Used : 1\n",
      "Number of Observations : 61\n"
     ]
    }
   ],
   "source": [
    "def adfuller_test(br):\n",
    "    test_result = adfuller(br)\n",
    "    labels = ['ADF Test Statistic','p-value','#Lags Used','Number of Observations']\n",
    "    for value, label in zip(test_result,labels):\n",
    "        print(label+' : '+str(value) )\n",
    "\n",
    "if test_result[1] <= 0.05:\n",
    "    print(\"Strong evidence against the null hypothesis(Ho), reject the null hypothesis. Data is stationary\")\n",
    "else:\n",
    "    print(\"Weak evidence against null hypothesis(Ho), indicating it is non-stationary \")\n",
    "\n",
    "adfuller_test(df['Birth_Rate'])"
   ]
  },
  {
   "cell_type": "markdown",
   "id": "e3e35d4d",
   "metadata": {},
   "source": [
    "__Here P-value is 0.08 which is greater than 0.05, \n",
    "which means data is accepting the null hypothesis,\n",
    "which means data is non-stationary.__"
   ]
  },
  {
   "cell_type": "markdown",
   "id": "356bf922",
   "metadata": {},
   "source": [
    "### Differencing to make the model as Stationary "
   ]
  },
  {
   "cell_type": "code",
   "execution_count": 19,
   "id": "3a069314",
   "metadata": {},
   "outputs": [
    {
     "data": {
      "text/html": [
       "<div>\n",
       "<style scoped>\n",
       "    .dataframe tbody tr th:only-of-type {\n",
       "        vertical-align: middle;\n",
       "    }\n",
       "\n",
       "    .dataframe tbody tr th {\n",
       "        vertical-align: top;\n",
       "    }\n",
       "\n",
       "    .dataframe thead th {\n",
       "        text-align: right;\n",
       "    }\n",
       "</style>\n",
       "<table border=\"1\" class=\"dataframe\">\n",
       "  <thead>\n",
       "    <tr style=\"text-align: right;\">\n",
       "      <th></th>\n",
       "      <th>Birth_Rate</th>\n",
       "      <th>Difference</th>\n",
       "    </tr>\n",
       "    <tr>\n",
       "      <th>Year</th>\n",
       "      <th></th>\n",
       "      <th></th>\n",
       "    </tr>\n",
       "  </thead>\n",
       "  <tbody>\n",
       "    <tr>\n",
       "      <th>1910</th>\n",
       "      <td>30.1</td>\n",
       "      <td>NaN</td>\n",
       "    </tr>\n",
       "    <tr>\n",
       "      <th>1915</th>\n",
       "      <td>29.5</td>\n",
       "      <td>-0.6</td>\n",
       "    </tr>\n",
       "    <tr>\n",
       "      <th>1920</th>\n",
       "      <td>27.7</td>\n",
       "      <td>-1.8</td>\n",
       "    </tr>\n",
       "    <tr>\n",
       "      <th>1925</th>\n",
       "      <td>25.1</td>\n",
       "      <td>-2.6</td>\n",
       "    </tr>\n",
       "    <tr>\n",
       "      <th>1930</th>\n",
       "      <td>21.3</td>\n",
       "      <td>-3.8</td>\n",
       "    </tr>\n",
       "  </tbody>\n",
       "</table>\n",
       "</div>"
      ],
      "text/plain": [
       "      Birth_Rate  Difference\n",
       "Year                        \n",
       "1910        30.1         NaN\n",
       "1915        29.5        -0.6\n",
       "1920        27.7        -1.8\n",
       "1925        25.1        -2.6\n",
       "1930        21.3        -3.8"
      ]
     },
     "execution_count": 19,
     "metadata": {},
     "output_type": "execute_result"
    }
   ],
   "source": [
    "df['Difference'] = df['Birth_Rate'] - df['Birth_Rate'].shift()\n",
    "df.head()"
   ]
  },
  {
   "cell_type": "markdown",
   "id": "8ae3db11",
   "metadata": {},
   "source": [
    "#### Again testing if data is stationary"
   ]
  },
  {
   "cell_type": "code",
   "execution_count": 20,
   "id": "4626471e",
   "metadata": {},
   "outputs": [
    {
     "name": "stdout",
     "output_type": "stream",
     "text": [
      "ADF Test Statistic : -3.7970030167159248\n",
      "p-value : 0.0029381273220641124\n",
      "#Lags Used : 0\n",
      "Number of Observations : 61\n"
     ]
    }
   ],
   "source": [
    "adfuller_test(df['Difference'].dropna())"
   ]
  },
  {
   "cell_type": "code",
   "execution_count": 21,
   "id": "ba6b7261",
   "metadata": {},
   "outputs": [
    {
     "data": {
      "image/png": "[encoded data removed]",
      "text/plain": [
       "<Figure size 1080x360 with 1 Axes>"
      ]
     },
     "metadata": {
      "needs_background": "light"
     },
     "output_type": "display_data"
    }
   ],
   "source": [
    "df['Difference'].plot()\n",
    "plt.show()"
   ]
  },
  {
   "cell_type": "markdown",
   "id": "bb585d8c",
   "metadata": {},
   "source": [
    "### ACF Plotting"
   ]
  },
  {
   "cell_type": "code",
   "execution_count": 22,
   "id": "097b5c99",
   "metadata": {},
   "outputs": [
    {
     "data": {
      "image/png": "[encoded data removed]",
      "text/plain": [
       "<Figure size 1080x360 with 1 Axes>"
      ]
     },
     "metadata": {
      "needs_background": "light"
     },
     "output_type": "display_data"
    }
   ],
   "source": [
    "from pandas.plotting import autocorrelation_plot\n",
    "autocorrelation_plot(df['Birth_Rate'])\n",
    "plt.show()"
   ]
  },
  {
   "cell_type": "markdown",
   "id": "96d7f86e",
   "metadata": {},
   "source": [
    "### PACF Plotting"
   ]
  },
  {
   "cell_type": "code",
   "execution_count": 23,
   "id": "487b2aae",
   "metadata": {},
   "outputs": [
    {
     "data": {
      "image/png": "[encoded data removed]",
      "text/plain": [
       "<Figure size 864x576 with 2 Axes>"
      ]
     },
     "metadata": {
      "needs_background": "light"
     },
     "output_type": "display_data"
    }
   ],
   "source": [
    "from statsmodels.graphics.tsaplots import plot_acf,plot_pacf\n",
    "import statsmodels.api as sm\n",
    "fig = plt.figure(figsize=(12,8))\n",
    "ax1 = fig.add_subplot(211)\n",
    "fig = sm.graphics.tsa.plot_acf(df['Difference'].dropna(),lags=20,ax=ax1)\n",
    "ax2 = fig.add_subplot(212)\n",
    "fig = sm.graphics.tsa.plot_pacf(df['Difference'].dropna(),lags=20,ax=ax2)"
   ]
  },
  {
   "cell_type": "markdown",
   "id": "63417a2b",
   "metadata": {},
   "source": [
    "### Model"
   ]
  },
  {
   "cell_type": "code",
   "execution_count": 24,
   "id": "5354dfbf",
   "metadata": {},
   "outputs": [
    {
     "name": "stderr",
     "output_type": "stream",
     "text": [
      "C:\\ProgramData\\Anaconda3\\lib\\site-packages\\statsmodels\\tsa\\base\\tsa_model.py:578: ValueWarning: An unsupported index was provided and will be ignored when e.g. forecasting.\n",
      "  warnings.warn('An unsupported index was provided and will be'\n"
     ]
    },
    {
     "data": {
      "text/html": [
       "<table class=\"simpletable\">\n",
       "<caption>ARMA Model Results</caption>\n",
       "<tr>\n",
       "  <th>Dep. Variable:</th>    <td>Birth_Rate</td>    <th>  No. Observations:  </th>   <td>63</td>   \n",
       "</tr>\n",
       "<tr>\n",
       "  <th>Model:</th>            <td>ARMA(2, 1)</td>    <th>  Log Likelihood     </th> <td>-74.707</td>\n",
       "</tr>\n",
       "<tr>\n",
       "  <th>Method:</th>             <td>css-mle</td>     <th>  S.D. of innovations</th>  <td>0.764</td> \n",
       "</tr>\n",
       "<tr>\n",
       "  <th>Date:</th>          <td>Tue, 31 May 2022</td> <th>  AIC                </th> <td>159.415</td>\n",
       "</tr>\n",
       "<tr>\n",
       "  <th>Time:</th>              <td>22:07:48</td>     <th>  BIC                </th> <td>170.130</td>\n",
       "</tr>\n",
       "<tr>\n",
       "  <th>Sample:</th>                <td>0</td>        <th>  HQIC               </th> <td>163.629</td>\n",
       "</tr>\n",
       "<tr>\n",
       "  <th></th>                       <td> </td>        <th>                     </th>    <td> </td>   \n",
       "</tr>\n",
       "</table>\n",
       "<table class=\"simpletable\">\n",
       "<tr>\n",
       "          <td></td>            <th>coef</th>     <th>std err</th>      <th>z</th>      <th>P>|z|</th>  <th>[0.025</th>    <th>0.975]</th>  \n",
       "</tr>\n",
       "<tr>\n",
       "  <th>const</th>            <td>   19.6583</td> <td>    3.283</td> <td>    5.988</td> <td> 0.000</td> <td>   13.224</td> <td>   26.093</td>\n",
       "</tr>\n",
       "<tr>\n",
       "  <th>ar.L1.Birth_Rate</th> <td>    1.5592</td> <td>    0.138</td> <td>   11.262</td> <td> 0.000</td> <td>    1.288</td> <td>    1.831</td>\n",
       "</tr>\n",
       "<tr>\n",
       "  <th>ar.L2.Birth_Rate</th> <td>   -0.5873</td> <td>    0.142</td> <td>   -4.138</td> <td> 0.000</td> <td>   -0.865</td> <td>   -0.309</td>\n",
       "</tr>\n",
       "<tr>\n",
       "  <th>ma.L1.Birth_Rate</th> <td>    0.1197</td> <td>    0.151</td> <td>    0.795</td> <td> 0.427</td> <td>   -0.175</td> <td>    0.415</td>\n",
       "</tr>\n",
       "</table>\n",
       "<table class=\"simpletable\">\n",
       "<caption>Roots</caption>\n",
       "<tr>\n",
       "    <td></td>   <th>            Real</th>  <th>         Imaginary</th> <th>         Modulus</th>  <th>        Frequency</th>\n",
       "</tr>\n",
       "<tr>\n",
       "  <th>AR.1</th> <td>           1.0837</td> <td>          +0.0000j</td> <td>           1.0837</td> <td>           0.0000</td>\n",
       "</tr>\n",
       "<tr>\n",
       "  <th>AR.2</th> <td>           1.5713</td> <td>          +0.0000j</td> <td>           1.5713</td> <td>           0.0000</td>\n",
       "</tr>\n",
       "<tr>\n",
       "  <th>MA.1</th> <td>          -8.3564</td> <td>          +0.0000j</td> <td>           8.3564</td> <td>           0.5000</td>\n",
       "</tr>\n",
       "</table>"
      ],
      "text/plain": [
       "<class 'statsmodels.iolib.summary.Summary'>\n",
       "\"\"\"\n",
       "                              ARMA Model Results                              \n",
       "==============================================================================\n",
       "Dep. Variable:             Birth_Rate   No. Observations:                   63\n",
       "Model:                     ARMA(2, 1)   Log Likelihood                 -74.707\n",
       "Method:                       css-mle   S.D. of innovations              0.764\n",
       "Date:                Tue, 31 May 2022   AIC                            159.415\n",
       "Time:                        22:07:48   BIC                            170.130\n",
       "Sample:                             0   HQIC                           163.629\n",
       "                                                                              \n",
       "====================================================================================\n",
       "                       coef    std err          z      P>|z|      [0.025      0.975]\n",
       "------------------------------------------------------------------------------------\n",
       "const               19.6583      3.283      5.988      0.000      13.224      26.093\n",
       "ar.L1.Birth_Rate     1.5592      0.138     11.262      0.000       1.288       1.831\n",
       "ar.L2.Birth_Rate    -0.5873      0.142     -4.138      0.000      -0.865      -0.309\n",
       "ma.L1.Birth_Rate     0.1197      0.151      0.795      0.427      -0.175       0.415\n",
       "                                    Roots                                    \n",
       "=============================================================================\n",
       "                  Real          Imaginary           Modulus         Frequency\n",
       "-----------------------------------------------------------------------------\n",
       "AR.1            1.0837           +0.0000j            1.0837            0.0000\n",
       "AR.2            1.5713           +0.0000j            1.5713            0.0000\n",
       "MA.1           -8.3564           +0.0000j            8.3564            0.5000\n",
       "-----------------------------------------------------------------------------\n",
       "\"\"\""
      ]
     },
     "execution_count": 24,
     "metadata": {},
     "output_type": "execute_result"
    }
   ],
   "source": [
    "model=ARIMA(df['Birth_Rate'],order=(2,0,1))\n",
    "model_fit=model.fit()\n",
    "model_fit.summary()"
   ]
  },
  {
   "cell_type": "markdown",
   "id": "79ba70ba",
   "metadata": {},
   "source": [
    "### Forecasting"
   ]
  },
  {
   "cell_type": "code",
   "execution_count": 25,
   "id": "44f85554",
   "metadata": {},
   "outputs": [
    {
     "data": {
      "text/plain": [
       "<AxesSubplot:xlabel='Year'>"
      ]
     },
     "execution_count": 25,
     "metadata": {},
     "output_type": "execute_result"
    },
    {
     "data": {
      "image/png": "[encoded data removed]",
      "text/plain": [
       "<Figure size 864x288 with 1 Axes>"
      ]
     },
     "metadata": {
      "needs_background": "light"
     },
     "output_type": "display_data"
    }
   ],
   "source": [
    "df['forecast'] = model_fit.predict()\n",
    "df[['Birth_Rate','forecast']].plot(figsize=(12,4))"
   ]
  },
  {
   "cell_type": "code",
   "execution_count": 26,
   "id": "cbe06b94",
   "metadata": {},
   "outputs": [
    {
     "name": "stderr",
     "output_type": "stream",
     "text": [
      "C:\\ProgramData\\Anaconda3\\lib\\site-packages\\statsmodels\\tsa\\base\\tsa_model.py:578: ValueWarning: An unsupported index was provided and will be ignored when e.g. forecasting.\n",
      "  warnings.warn('An unsupported index was provided and will be'\n",
      "C:\\ProgramData\\Anaconda3\\lib\\site-packages\\statsmodels\\tsa\\base\\tsa_model.py:578: ValueWarning: An unsupported index was provided and will be ignored when e.g. forecasting.\n",
      "  warnings.warn('An unsupported index was provided and will be'\n"
     ]
    },
    {
     "data": {
      "text/plain": [
       "<AxesSubplot:xlabel='Year'>"
      ]
     },
     "execution_count": 26,
     "metadata": {},
     "output_type": "execute_result"
    },
    {
     "data": {
      "image/png": "[encoded data removed]",
      "text/plain": [
       "<Figure size 864x288 with 1 Axes>"
      ]
     },
     "metadata": {
      "needs_background": "light"
     },
     "output_type": "display_data"
    }
   ],
   "source": [
    "import statsmodels.api as sm\n",
    "model=sm.tsa.statespace.SARIMAX(df['Birth_Rate'],order=(1, 1, 1),seasonal_order=(1,1,1,12))\n",
    "results=model.fit()\n",
    "df['forecast']=results.predict()\n",
    "df[['Birth_Rate','forecast']].plot(figsize=(12,4))"
   ]
  },
  {
   "cell_type": "code",
   "execution_count": null,
   "id": "b7efd51b",
   "metadata": {},
   "outputs": [],
   "source": []
  }
 ],
 "metadata": {
  "kernelspec": {
   "display_name": "Python 3 (ipykernel)",
   "language": "python",
   "name": "python3"
  },
  "language_info": {
   "codemirror_mode": {
    "name": "ipython",
    "version": 3
   },
   "file_extension": ".py",
   "mimetype": "text/x-python",
   "name": "python",
   "nbconvert_exporter": "python",
   "pygments_lexer": "ipython3",
   "version": "3.9.7"
  }
 },
 "nbformat": 4,
 "nbformat_minor": 5
}
